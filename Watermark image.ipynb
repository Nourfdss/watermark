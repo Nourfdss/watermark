{
 "cells": [
  {
   "cell_type": "markdown",
   "id": "95747b11",
   "metadata": {},
   "source": [
    "<H2> Standalone function </H2>"
   ]
  },
  {
   "cell_type": "code",
   "execution_count": 2,
   "id": "143e0236",
   "metadata": {},
   "outputs": [],
   "source": [
    "from PIL import Image, ImageDraw, ImageFont\n",
    "\n",
    "# Use // for file names if you are facing issues\n",
    "INPUT_IMAGE_FILE = r'C:\\Users\\Arpan Ghosh\\Desktop\\image.jpg'\n",
    "OUTPUT_IMAGE_FILE = r'C:\\Users\\Arpan Ghosh\\Desktop\\filename_out.jpg'\n",
    "FONT_LOCATION  = r'C:\\Users\\Arpan Ghosh\\Desktop\\Raleway-SemiBold.ttf'\n",
    "FONT_SIZE = 20\n",
    "H_SPACING = 70\n",
    "V_SPACING = 90\n",
    "FONT_OPACITY = 30\n",
    "WATERMARK_TEXT = \"@ARPAN\"\n",
    "\n",
    "# the following function reads an image stream from PIL and outputs the same image stream with watermarks\n",
    "\n",
    "def put_watermark(im, WATERMARK_TEXT, FONT_LOCATION, FONT_SIZE, H_SPACING, V_SPACING, FONT_OPACITY):\n",
    "    \n",
    "    font = ImageFont.truetype(FONT_LOCATION, FONT_SIZE)\n",
    "    watermark_text = WATERMARK_TEXT\n",
    "    im_width, im_height = im.size\n",
    "    \n",
    "    drawing = ImageDraw.Draw(im)\n",
    "    text_width, text_height = drawing.textsize(watermark_text, font)\n",
    "    \n",
    "\n",
    "    im_text = Image.new('RGBA', (text_width, (text_height)), (255, 255, 255, 0)) \n",
    "    drawing = ImageDraw.Draw(im_text)\n",
    "    drawing.text((0,0), watermark_text, fill=(255,255,255, FONT_OPACITY), font=font)\n",
    "    \n",
    "    current_width = im_width\n",
    "    current_height = im_height\n",
    "\n",
    "    up_down = +1\n",
    "\n",
    "    while current_width > text_width + H_SPACING:\n",
    "        new_position = (current_width - text_width) - H_SPACING , current_height + (up_down * (V_SPACING//2))\n",
    "        im.paste(im_text, new_position, im_text)\n",
    "        current_width, current_height = new_position\n",
    "\n",
    "        repeat_current_width, repeat_current_height = new_position\n",
    "\n",
    "        while repeat_current_height > text_height + V_SPACING:\n",
    "            repeat_new_position = repeat_current_width , (repeat_current_height - text_height - V_SPACING)\n",
    "            im.paste(im_text, repeat_new_position, im_text)\n",
    "            repeat_current_width, repeat_current_height = repeat_new_position\n",
    "\n",
    "        up_down *= -1\n",
    "        \n",
    "    return im\n",
    "\n",
    "# Usage\n",
    "\n",
    "im = Image.open(INPUT_IMAGE_FILE) # opening image\n",
    "\n",
    "output = put_watermark(im, WATERMARK_TEXT, FONT_LOCATION, FONT_SIZE, H_SPACING, V_SPACING, FONT_OPACITY) # Getting watermarked outfile stream\n",
    "\n",
    "output.save(OUTPUT_IMAGE_FILE) # saving file"
   ]
  },
  {
   "cell_type": "markdown",
   "id": "905b512a",
   "metadata": {},
   "source": [
    "<H2> Code Breakdown </H2>"
   ]
  },
  {
   "cell_type": "code",
   "execution_count": 3,
   "id": "02ae9b02",
   "metadata": {},
   "outputs": [],
   "source": [
    "# Constants\n",
    "INPUT_IMAGE_FILE = r'C:\\Users\\Arpan Ghosh\\Desktop\\image.jpg'\n",
    "OUTPUT_IMAGE_FILE = r'C:\\Users\\Arpan Ghosh\\Desktop\\filename_out.jpg'\n",
    "FONT_LOCATION  = r'C:\\Users\\Arpan Ghosh\\Desktop\\Raleway-SemiBold.ttf'\n",
    "FONT_SIZE = 20\n",
    "H_SPACING = 70\n",
    "V_SPACING = 90\n",
    "FONT_OPACITY = 30\n",
    "WATERMARK_TEXT = \"@ARPAN\""
   ]
  },
  {
   "cell_type": "code",
   "execution_count": 4,
   "id": "52a213a5",
   "metadata": {},
   "outputs": [],
   "source": [
    "# Importing essential packages from PIL\n",
    "from PIL import Image, ImageDraw, ImageFont"
   ]
  },
  {
   "cell_type": "code",
   "execution_count": 5,
   "id": "ef618a16",
   "metadata": {},
   "outputs": [],
   "source": [
    "#opening image\n",
    "im = Image.open(INPUT_IMAGE_FILE)\n",
    "font = ImageFont.truetype(FONT_LOCATION, FONT_SIZE)\n",
    "watermark_text = WATERMARK_TEXT\n",
    "im_width, im_height = im.size # gathering parent image size"
   ]
  },
  {
   "cell_type": "code",
   "execution_count": 6,
   "id": "544963bc",
   "metadata": {},
   "outputs": [],
   "source": [
    "#Creating editable image\n",
    "drawing = ImageDraw.Draw(im)\n",
    "text_width, text_height = drawing.textsize(watermark_text, font) # gathering size of the text"
   ]
  },
  {
   "cell_type": "code",
   "execution_count": 7,
   "id": "e1623224",
   "metadata": {},
   "outputs": [],
   "source": [
    "# Creating watermark text sub-image\n",
    "im_text = Image.new('RGBA', (text_width, (text_height)), (255, 255, 255, 0)) # creating new transparent sub image for watermark text\n",
    "drawing = ImageDraw.Draw(im_text)\n",
    "drawing.text((0,0), watermark_text, fill=(255,255,255, FONT_OPACITY), font=font) # adding the text to the new sub-image"
   ]
  },
  {
   "cell_type": "code",
   "execution_count": 8,
   "id": "96d4ab15",
   "metadata": {},
   "outputs": [],
   "source": [
    "# Looping for additional watermarks\n",
    "\n",
    "current_width = im_width\n",
    "current_height = im_height\n",
    "\n",
    "up_down = +1 # for interesting tiling pattern ( up down position difference )\n",
    "\n",
    "#bottom horizontal watermark line repeat \n",
    "while current_width > text_width + H_SPACING:\n",
    "    new_position = (current_width - text_width) - H_SPACING , current_height + (up_down * (V_SPACING//2))\n",
    "    im.paste(im_text, new_position, im_text) # pasting horizontal sub-image watermarks\n",
    "    current_width, current_height = new_position\n",
    "    \n",
    "    # Creating vertical repeat for each horizontal one in the bottom line\n",
    "    \n",
    "    repeat_current_width, repeat_current_height = new_position\n",
    "    \n",
    "    while repeat_current_height > text_height + V_SPACING:\n",
    "        repeat_new_position = repeat_current_width , (repeat_current_height - text_height - V_SPACING)\n",
    "        im.paste(im_text, repeat_new_position, im_text) # pasting vertical sub-image watermarks\n",
    "        repeat_current_width, repeat_current_height = repeat_new_position\n",
    "        \n",
    "    up_down *= -1"
   ]
  },
  {
   "cell_type": "code",
   "execution_count": 9,
   "id": "bffd474f",
   "metadata": {},
   "outputs": [],
   "source": [
    "# saving output to outfile\n",
    "im.save(OUTPUT_IMAGE_FILE)"
   ]
  },
  {
   "cell_type": "code",
   "execution_count": null,
   "id": "f935a92d",
   "metadata": {},
   "outputs": [],
   "source": []
  }
 ],
 "metadata": {
  "kernelspec": {
   "display_name": "Python 3 (ipykernel)",
   "language": "python",
   "name": "python3"
  },
  "language_info": {
   "codemirror_mode": {
    "name": "ipython",
    "version": 3
   },
   "file_extension": ".py",
   "mimetype": "text/x-python",
   "name": "python",
   "nbconvert_exporter": "python",
   "pygments_lexer": "ipython3",
   "version": "3.8.5"
  }
 },
 "nbformat": 4,
 "nbformat_minor": 5
}
